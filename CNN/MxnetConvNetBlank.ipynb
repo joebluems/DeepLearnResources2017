{
 "cells": [
  {
   "cell_type": "code",
   "execution_count": null,
   "metadata": {
    "collapsed": true
   },
   "outputs": [],
   "source": [
    "import os, urllib\n",
    "import mxnet as mx\n",
    "def download(url,prefix=''):\n",
    "    filename = prefix+url.split(\"/\")[-1]\n",
    "    if not os.path.exists(filename):\n",
    "        urllib.urlretrieve(url, filename)\n",
    "\n",
    "path='http://data.mxnet.io/models/imagenet-11k/'\n",
    "download(path+'resnet-152/resnet-152-symbol.json', 'full-')\n",
    "download(path+'resnet-152/resnet-152-0000.params', 'full-')\n",
    "download(path+'synset.txt', 'full-')\n",
    "\n",
    "with open('full-synset.txt', 'r') as f:\n",
    "    synsets = [l.rstrip() for l in f]\n",
    "\n",
    "sym, arg_params, aux_params = mx.model.load_checkpoint('full-resnet-152', 0)"
   ]
  },
  {
   "cell_type": "code",
   "execution_count": null,
   "metadata": {
    "collapsed": true
   },
   "outputs": [],
   "source": [
    "mod = mx.mod.Module(symbol=sym, context=mx.cpu())\n",
    "mod.bind(for_training=False, data_shapes=[('data', (1,3,224,224))])\n",
    "mod.set_params(arg_params, aux_params)"
   ]
  },
  {
   "cell_type": "code",
   "execution_count": null,
   "metadata": {
    "collapsed": true
   },
   "outputs": [],
   "source": [
    "%matplotlib inline\n",
    "import matplotlib\n",
    "matplotlib.rc(\"savefig\", dpi=100)\n",
    "import matplotlib.pyplot as plt\n",
    "import cv2\n",
    "import numpy as np\n",
    "from collections import namedtuple\n",
    "Batch = namedtuple('Batch', ['data'])\n",
    "\n",
    "def get_image(url, show=True):\n",
    "    filename = url.split(\"/\")[-1]\n",
    "    urllib.urlretrieve(url, filename)\n",
    "    img = cv2.imread(filename)\n",
    "    if img is None:\n",
    "        print('failed to download ' + url)\n",
    "    if show:\n",
    "        plt.imshow(cv2.cvtColor(img, cv2.COLOR_BGR2RGB))\n",
    "        plt.axis('off')\n",
    "    return filename\n",
    "\n",
    "def predict(filename, mod, synsets):\n",
    "    img = cv2.cvtColor(cv2.imread(filename), cv2.COLOR_BGR2RGB)\n",
    "    if img is None:\n",
    "        return None\n",
    "    img = cv2.resize(img, (224, 224))\n",
    "    img = np.swapaxes(img, 0, 2)\n",
    "    img = np.swapaxes(img, 1, 2) \n",
    "    img = img[np.newaxis, :] \n",
    "    \n",
    "    mod.forward(Batch([mx.nd.array(img)]))\n",
    "    prob = mod.get_outputs()[0].asnumpy()\n",
    "    prob = np.squeeze(prob)\n",
    "\n",
    "    a = np.argsort(prob)[::-1]    \n",
    "    for i in a[0:5]:\n",
    "        print('probability=%f, class=%s' %(prob[i], synsets[i]))"
   ]
  },
  {
   "cell_type": "code",
   "execution_count": null,
   "metadata": {
    "collapsed": true
   },
   "outputs": [],
   "source": [
    "url = '/Users/joeblue/Desktop/d1.jpg'\n",
    "predict(get_image(url), mod, synsets)"
   ]
  },
  {
   "cell_type": "code",
   "execution_count": null,
   "metadata": {
    "collapsed": true
   },
   "outputs": [],
   "source": [
    "url = '/Users/joeblue/Desktop/d2.jpg'\n",
    "predict(get_image(url), mod, synsets)"
   ]
  },
  {
   "cell_type": "code",
   "execution_count": null,
   "metadata": {
    "collapsed": true
   },
   "outputs": [],
   "source": [
    "url = '/Users/joeblue/Desktop/d3.jpg'\n",
    "predict(get_image(url), mod, synsets)"
   ]
  },
  {
   "cell_type": "code",
   "execution_count": null,
   "metadata": {
    "collapsed": true
   },
   "outputs": [],
   "source": [
    "url = '/Users/joeblue/Desktop/d4.jpg'\n",
    "predict(get_image(url), mod, synsets)"
   ]
  }
 ],
 "metadata": {
  "anaconda-cloud": {},
  "kernelspec": {
   "display_name": "Python [Root]",
   "language": "python",
   "name": "Python [Root]"
  },
  "language_info": {
   "codemirror_mode": {
    "name": "ipython",
    "version": 2
   },
   "file_extension": ".py",
   "mimetype": "text/x-python",
   "name": "python",
   "nbconvert_exporter": "python",
   "pygments_lexer": "ipython2",
   "version": "2.7.12"
  }
 },
 "nbformat": 4,
 "nbformat_minor": 0
}
